{
 "cells": [
  {
   "cell_type": "code",
   "execution_count": 1,
   "metadata": {},
   "outputs": [],
   "source": [
    "import pandas as pd"
   ]
  },
  {
   "cell_type": "code",
   "execution_count": 2,
   "metadata": {},
   "outputs": [],
   "source": [
    "sales_of_company_x = pd.read_csv(\"Series/monthly-sales-of-company-x-jan-6.csv\")\n",
    "robberies_in_boston = pd.read_csv(\"Series/monthly-boston-armed-robberies-j.csv\")\n",
    "airlines_passengers = pd.read_csv(\"Series/international-airline-passengers.csv\")\n",
    "mean_monthly_temp = pd.read_csv(\"Series/mean-monthly-air-temperature-deg.csv\")\n",
    "dowjones_closing = pd.read_csv(\"Series/weekly-closings-of-the-dowjones-.csv\")\n",
    "female_births = pd.read_csv(\"Series/daily-total-female-births-in-cal.csv\")"
   ]
  },
  {
   "cell_type": "code",
   "execution_count": null,
   "metadata": {},
   "outputs": [],
   "source": []
  },
  {
   "cell_type": "code",
   "execution_count": null,
   "metadata": {},
   "outputs": [],
   "source": []
  },
  {
   "cell_type": "code",
   "execution_count": null,
   "metadata": {},
   "outputs": [],
   "source": []
  },
  {
   "cell_type": "code",
   "execution_count": null,
   "metadata": {},
   "outputs": [],
   "source": []
  },
  {
   "cell_type": "code",
   "execution_count": null,
   "metadata": {},
   "outputs": [],
   "source": []
  }
 ],
 "metadata": {
  "kernelspec": {
   "display_name": "Python 3",
   "language": "python",
   "name": "python3"
  },
  "language_info": {
   "codemirror_mode": {
    "name": "ipython",
    "version": 3
   },
   "file_extension": ".py",
   "mimetype": "text/x-python",
   "name": "python",
   "nbconvert_exporter": "python",
   "pygments_lexer": "ipython3",
   "version": "3.8.3"
  }
 },
 "nbformat": 4,
 "nbformat_minor": 4
}
